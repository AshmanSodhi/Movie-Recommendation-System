{
 "cells": [
  {
   "cell_type": "code",
   "execution_count": 1,
   "id": "623408ef",
   "metadata": {},
   "outputs": [],
   "source": [
    "import os\n",
    "import numpy as np\n",
    "import pandas as pd\n",
    "import matplotlib.pyplot as plt"
   ]
  },
  {
   "cell_type": "code",
   "execution_count": 2,
   "id": "cc16cd4f",
   "metadata": {},
   "outputs": [],
   "source": [
    "credits = pd.read_csv(\"data/credits.csv\",low_memory = False)\n",
    "keywords = pd.read_csv(\"data/keywords.csv\",low_memory = False)\n",
    "movies_metadata = pd.read_csv(\"data/movies_metadata.csv\",low_memory = False)"
   ]
  },
  {
   "cell_type": "code",
   "execution_count": 3,
   "id": "64b2f554",
   "metadata": {},
   "outputs": [
    {
     "name": "stdout",
     "output_type": "stream",
     "text": [
      "(45466, 5)\n"
     ]
    }
   ],
   "source": [
    "movies_metadata = movies_metadata[['id','genres','original_title','overview','production_companies']]\n",
    "credits = credits[['id','cast','crew']]\n",
    "keywords = keywords[['id','keywords']]\n",
    "print(movies_metadata.shape)  "
   ]
  },
  {
   "cell_type": "code",
   "execution_count": 4,
   "id": "085ecb2c",
   "metadata": {},
   "outputs": [
    {
     "data": {
      "text/plain": [
       "id          0\n",
       "keywords    0\n",
       "dtype: int64"
      ]
     },
     "execution_count": 4,
     "metadata": {},
     "output_type": "execute_result"
    }
   ],
   "source": [
    "movies_metadata.isnull().sum()\n",
    "credits.isnull().sum()\n",
    "keywords.isnull().sum()"
   ]
  },
  {
   "cell_type": "code",
   "execution_count": 5,
   "id": "e0340b5f",
   "metadata": {},
   "outputs": [],
   "source": [
    "movies_metadata['id'] = movies_metadata['id'].fillna(0)\n",
    "movies_metadata['id']=pd.to_numeric(movies_metadata['id'], errors='coerce').astype('Int64')\n",
    "\n",
    "merged_data = keywords.merge(movies_metadata, on = 'id')\n",
    "merged_data = merged_data.merge(credits, on = 'id')"
   ]
  },
  {
   "cell_type": "code",
   "execution_count": 6,
   "id": "bf55815c",
   "metadata": {},
   "outputs": [],
   "source": [
    "import ast\n",
    "def toList(text):\n",
    "    lst = []\n",
    "    for i in ast.literal_eval(text):\n",
    "            lst.append(i['name'])\n",
    "    return lst"
   ]
  },
  {
   "cell_type": "code",
   "execution_count": 7,
   "id": "74b270af",
   "metadata": {},
   "outputs": [],
   "source": [
    "merged_data['genres'] = merged_data['genres'].apply(toList)\n",
    "merged_data['keywords'] = merged_data['keywords'].apply(toList)"
   ]
  },
  {
   "cell_type": "code",
   "execution_count": 8,
   "id": "bf3f5f37",
   "metadata": {},
   "outputs": [],
   "source": [
    "def getDir(obj):\n",
    "    lst = []\n",
    "    for i in ast.literal_eval(obj):\n",
    "        if i['job'] == 'Director':\n",
    "            lst.append(i['name'])\n",
    "            break;\n",
    "    return lst "
   ]
  },
  {
   "cell_type": "code",
   "execution_count": 9,
   "id": "bd57d471",
   "metadata": {},
   "outputs": [],
   "source": [
    "merged_data['crew'] = merged_data['crew'].apply(getDir)"
   ]
  },
  {
   "cell_type": "code",
   "execution_count": 10,
   "id": "d98068f3",
   "metadata": {},
   "outputs": [
    {
     "data": {
      "text/html": [
       "<div>\n",
       "<style scoped>\n",
       "    .dataframe tbody tr th:only-of-type {\n",
       "        vertical-align: middle;\n",
       "    }\n",
       "\n",
       "    .dataframe tbody tr th {\n",
       "        vertical-align: top;\n",
       "    }\n",
       "\n",
       "    .dataframe thead th {\n",
       "        text-align: right;\n",
       "    }\n",
       "</style>\n",
       "<table border=\"1\" class=\"dataframe\">\n",
       "  <thead>\n",
       "    <tr style=\"text-align: right;\">\n",
       "      <th></th>\n",
       "      <th>id</th>\n",
       "      <th>keywords</th>\n",
       "      <th>genres</th>\n",
       "      <th>original_title</th>\n",
       "      <th>overview</th>\n",
       "      <th>production_companies</th>\n",
       "      <th>cast</th>\n",
       "      <th>crew</th>\n",
       "    </tr>\n",
       "  </thead>\n",
       "  <tbody>\n",
       "    <tr>\n",
       "      <th>0</th>\n",
       "      <td>862</td>\n",
       "      <td>[jealousy, toy, boy, friendship, friends, riva...</td>\n",
       "      <td>[Animation, Comedy, Family]</td>\n",
       "      <td>Toy Story</td>\n",
       "      <td>Led by Woody, Andy's toys live happily in his ...</td>\n",
       "      <td>[{'name': 'Pixar Animation Studios', 'id': 3}]</td>\n",
       "      <td>[{'cast_id': 14, 'character': 'Woody (voice)',...</td>\n",
       "      <td>[John Lasseter]</td>\n",
       "    </tr>\n",
       "    <tr>\n",
       "      <th>1</th>\n",
       "      <td>8844</td>\n",
       "      <td>[board game, disappearance, based on children'...</td>\n",
       "      <td>[Adventure, Fantasy, Family]</td>\n",
       "      <td>Jumanji</td>\n",
       "      <td>When siblings Judy and Peter discover an encha...</td>\n",
       "      <td>[{'name': 'TriStar Pictures', 'id': 559}, {'na...</td>\n",
       "      <td>[{'cast_id': 1, 'character': 'Alan Parrish', '...</td>\n",
       "      <td>[Joe Johnston]</td>\n",
       "    </tr>\n",
       "    <tr>\n",
       "      <th>2</th>\n",
       "      <td>15602</td>\n",
       "      <td>[fishing, best friend, duringcreditsstinger, o...</td>\n",
       "      <td>[Romance, Comedy]</td>\n",
       "      <td>Grumpier Old Men</td>\n",
       "      <td>A family wedding reignites the ancient feud be...</td>\n",
       "      <td>[{'name': 'Warner Bros.', 'id': 6194}, {'name'...</td>\n",
       "      <td>[{'cast_id': 2, 'character': 'Max Goldman', 'c...</td>\n",
       "      <td>[Howard Deutch]</td>\n",
       "    </tr>\n",
       "  </tbody>\n",
       "</table>\n",
       "</div>"
      ],
      "text/plain": [
       "      id                                           keywords   \n",
       "0    862  [jealousy, toy, boy, friendship, friends, riva...  \\\n",
       "1   8844  [board game, disappearance, based on children'...   \n",
       "2  15602  [fishing, best friend, duringcreditsstinger, o...   \n",
       "\n",
       "                         genres    original_title   \n",
       "0   [Animation, Comedy, Family]         Toy Story  \\\n",
       "1  [Adventure, Fantasy, Family]           Jumanji   \n",
       "2             [Romance, Comedy]  Grumpier Old Men   \n",
       "\n",
       "                                            overview   \n",
       "0  Led by Woody, Andy's toys live happily in his ...  \\\n",
       "1  When siblings Judy and Peter discover an encha...   \n",
       "2  A family wedding reignites the ancient feud be...   \n",
       "\n",
       "                                production_companies   \n",
       "0     [{'name': 'Pixar Animation Studios', 'id': 3}]  \\\n",
       "1  [{'name': 'TriStar Pictures', 'id': 559}, {'na...   \n",
       "2  [{'name': 'Warner Bros.', 'id': 6194}, {'name'...   \n",
       "\n",
       "                                                cast             crew  \n",
       "0  [{'cast_id': 14, 'character': 'Woody (voice)',...  [John Lasseter]  \n",
       "1  [{'cast_id': 1, 'character': 'Alan Parrish', '...   [Joe Johnston]  \n",
       "2  [{'cast_id': 2, 'character': 'Max Goldman', 'c...  [Howard Deutch]  "
      ]
     },
     "execution_count": 10,
     "metadata": {},
     "output_type": "execute_result"
    }
   ],
   "source": [
    "merged_data.head(3)"
   ]
  },
  {
   "cell_type": "code",
   "execution_count": 11,
   "id": "44c198bb",
   "metadata": {},
   "outputs": [],
   "source": [
    "def castNames(text):\n",
    "    list = []\n",
    "    counter = 0\n",
    "    for i in ast.literal_eval(text):\n",
    "        if(counter<5):\n",
    "            list.append(i['name'])\n",
    "            counter+=1\n",
    "        else:\n",
    "            break\n",
    "    return list\n",
    "\n",
    "merged_data['cast'] = merged_data['cast'].apply(castNames)"
   ]
  },
  {
   "cell_type": "code",
   "execution_count": 12,
   "id": "00a80449",
   "metadata": {},
   "outputs": [
    {
     "data": {
      "text/html": [
       "<div>\n",
       "<style scoped>\n",
       "    .dataframe tbody tr th:only-of-type {\n",
       "        vertical-align: middle;\n",
       "    }\n",
       "\n",
       "    .dataframe tbody tr th {\n",
       "        vertical-align: top;\n",
       "    }\n",
       "\n",
       "    .dataframe thead th {\n",
       "        text-align: right;\n",
       "    }\n",
       "</style>\n",
       "<table border=\"1\" class=\"dataframe\">\n",
       "  <thead>\n",
       "    <tr style=\"text-align: right;\">\n",
       "      <th></th>\n",
       "      <th>id</th>\n",
       "      <th>keywords</th>\n",
       "      <th>genres</th>\n",
       "      <th>original_title</th>\n",
       "      <th>overview</th>\n",
       "      <th>production_companies</th>\n",
       "      <th>cast</th>\n",
       "      <th>crew</th>\n",
       "    </tr>\n",
       "  </thead>\n",
       "  <tbody>\n",
       "    <tr>\n",
       "      <th>0</th>\n",
       "      <td>862</td>\n",
       "      <td>[jealousy, toy, boy, friendship, friends, riva...</td>\n",
       "      <td>[Animation, Comedy, Family]</td>\n",
       "      <td>Toy Story</td>\n",
       "      <td>Led by Woody, Andy's toys live happily in his ...</td>\n",
       "      <td>[{'name': 'Pixar Animation Studios', 'id': 3}]</td>\n",
       "      <td>[Tom Hanks, Tim Allen, Don Rickles, Jim Varney...</td>\n",
       "      <td>[John Lasseter]</td>\n",
       "    </tr>\n",
       "    <tr>\n",
       "      <th>1</th>\n",
       "      <td>8844</td>\n",
       "      <td>[board game, disappearance, based on children'...</td>\n",
       "      <td>[Adventure, Fantasy, Family]</td>\n",
       "      <td>Jumanji</td>\n",
       "      <td>When siblings Judy and Peter discover an encha...</td>\n",
       "      <td>[{'name': 'TriStar Pictures', 'id': 559}, {'na...</td>\n",
       "      <td>[Robin Williams, Jonathan Hyde, Kirsten Dunst,...</td>\n",
       "      <td>[Joe Johnston]</td>\n",
       "    </tr>\n",
       "  </tbody>\n",
       "</table>\n",
       "</div>"
      ],
      "text/plain": [
       "     id                                           keywords   \n",
       "0   862  [jealousy, toy, boy, friendship, friends, riva...  \\\n",
       "1  8844  [board game, disappearance, based on children'...   \n",
       "\n",
       "                         genres original_title   \n",
       "0   [Animation, Comedy, Family]      Toy Story  \\\n",
       "1  [Adventure, Fantasy, Family]        Jumanji   \n",
       "\n",
       "                                            overview   \n",
       "0  Led by Woody, Andy's toys live happily in his ...  \\\n",
       "1  When siblings Judy and Peter discover an encha...   \n",
       "\n",
       "                                production_companies   \n",
       "0     [{'name': 'Pixar Animation Studios', 'id': 3}]  \\\n",
       "1  [{'name': 'TriStar Pictures', 'id': 559}, {'na...   \n",
       "\n",
       "                                                cast             crew  \n",
       "0  [Tom Hanks, Tim Allen, Don Rickles, Jim Varney...  [John Lasseter]  \n",
       "1  [Robin Williams, Jonathan Hyde, Kirsten Dunst,...   [Joe Johnston]  "
      ]
     },
     "execution_count": 12,
     "metadata": {},
     "output_type": "execute_result"
    }
   ],
   "source": [
    "merged_data.head(2)"
   ]
  },
  {
   "cell_type": "code",
   "execution_count": 13,
   "id": "013e792a",
   "metadata": {},
   "outputs": [],
   "source": [
    "merged_data['overview'] = merged_data['overview'].astype(str)\n",
    "merged_data['overview'] = merged_data['overview'].apply(lambda x : x.split())"
   ]
  },
  {
   "cell_type": "code",
   "execution_count": 14,
   "id": "aee6cc55",
   "metadata": {},
   "outputs": [],
   "source": [
    "def collapse(list):\n",
    "    collapsed_list = []\n",
    "    for i in list:\n",
    "        collapsed_list.append(i.replace(\" \",\"\"))\n",
    "    return collapsed_list"
   ]
  },
  {
   "cell_type": "code",
   "execution_count": 15,
   "id": "6b3d54c4",
   "metadata": {},
   "outputs": [],
   "source": [
    "merged_data['keywords'] = merged_data['keywords'].apply(collapse)\n",
    "merged_data['genres'] = merged_data['genres'].apply(collapse)\n",
    "merged_data['crew'] = merged_data['crew'].apply(collapse)\n",
    "merged_data['cast'] = merged_data['cast'].apply(collapse)"
   ]
  },
  {
   "cell_type": "code",
   "execution_count": 16,
   "id": "e8e99996",
   "metadata": {},
   "outputs": [
    {
     "data": {
      "text/html": [
       "<div>\n",
       "<style scoped>\n",
       "    .dataframe tbody tr th:only-of-type {\n",
       "        vertical-align: middle;\n",
       "    }\n",
       "\n",
       "    .dataframe tbody tr th {\n",
       "        vertical-align: top;\n",
       "    }\n",
       "\n",
       "    .dataframe thead th {\n",
       "        text-align: right;\n",
       "    }\n",
       "</style>\n",
       "<table border=\"1\" class=\"dataframe\">\n",
       "  <thead>\n",
       "    <tr style=\"text-align: right;\">\n",
       "      <th></th>\n",
       "      <th>id</th>\n",
       "      <th>keywords</th>\n",
       "      <th>genres</th>\n",
       "      <th>original_title</th>\n",
       "      <th>overview</th>\n",
       "      <th>production_companies</th>\n",
       "      <th>cast</th>\n",
       "      <th>crew</th>\n",
       "    </tr>\n",
       "  </thead>\n",
       "  <tbody>\n",
       "    <tr>\n",
       "      <th>0</th>\n",
       "      <td>862</td>\n",
       "      <td>[jealousy, toy, boy, friendship, friends, riva...</td>\n",
       "      <td>[Animation, Comedy, Family]</td>\n",
       "      <td>Toy Story</td>\n",
       "      <td>[Led, by, Woody,, Andy's, toys, live, happily,...</td>\n",
       "      <td>[{'name': 'Pixar Animation Studios', 'id': 3}]</td>\n",
       "      <td>[TomHanks, TimAllen, DonRickles, JimVarney, Wa...</td>\n",
       "      <td>[JohnLasseter]</td>\n",
       "    </tr>\n",
       "    <tr>\n",
       "      <th>1</th>\n",
       "      <td>8844</td>\n",
       "      <td>[boardgame, disappearance, basedonchildren'sbo...</td>\n",
       "      <td>[Adventure, Fantasy, Family]</td>\n",
       "      <td>Jumanji</td>\n",
       "      <td>[When, siblings, Judy, and, Peter, discover, a...</td>\n",
       "      <td>[{'name': 'TriStar Pictures', 'id': 559}, {'na...</td>\n",
       "      <td>[RobinWilliams, JonathanHyde, KirstenDunst, Br...</td>\n",
       "      <td>[JoeJohnston]</td>\n",
       "    </tr>\n",
       "    <tr>\n",
       "      <th>2</th>\n",
       "      <td>15602</td>\n",
       "      <td>[fishing, bestfriend, duringcreditsstinger, ol...</td>\n",
       "      <td>[Romance, Comedy]</td>\n",
       "      <td>Grumpier Old Men</td>\n",
       "      <td>[A, family, wedding, reignites, the, ancient, ...</td>\n",
       "      <td>[{'name': 'Warner Bros.', 'id': 6194}, {'name'...</td>\n",
       "      <td>[WalterMatthau, JackLemmon, Ann-Margret, Sophi...</td>\n",
       "      <td>[HowardDeutch]</td>\n",
       "    </tr>\n",
       "    <tr>\n",
       "      <th>3</th>\n",
       "      <td>31357</td>\n",
       "      <td>[basedonnovel, interracialrelationship, single...</td>\n",
       "      <td>[Comedy, Drama, Romance]</td>\n",
       "      <td>Waiting to Exhale</td>\n",
       "      <td>[Cheated, on,, mistreated, and, stepped, on,, ...</td>\n",
       "      <td>[{'name': 'Twentieth Century Fox Film Corporat...</td>\n",
       "      <td>[WhitneyHouston, AngelaBassett, LorettaDevine,...</td>\n",
       "      <td>[ForestWhitaker]</td>\n",
       "    </tr>\n",
       "    <tr>\n",
       "      <th>4</th>\n",
       "      <td>11862</td>\n",
       "      <td>[baby, midlifecrisis, confidence, aging, daugh...</td>\n",
       "      <td>[Comedy]</td>\n",
       "      <td>Father of the Bride Part II</td>\n",
       "      <td>[Just, when, George, Banks, has, recovered, fr...</td>\n",
       "      <td>[{'name': 'Sandollar Productions', 'id': 5842}...</td>\n",
       "      <td>[SteveMartin, DianeKeaton, MartinShort, Kimber...</td>\n",
       "      <td>[CharlesShyer]</td>\n",
       "    </tr>\n",
       "    <tr>\n",
       "      <th>...</th>\n",
       "      <td>...</td>\n",
       "      <td>...</td>\n",
       "      <td>...</td>\n",
       "      <td>...</td>\n",
       "      <td>...</td>\n",
       "      <td>...</td>\n",
       "      <td>...</td>\n",
       "      <td>...</td>\n",
       "    </tr>\n",
       "    <tr>\n",
       "      <th>46623</th>\n",
       "      <td>439050</td>\n",
       "      <td>[tragiclove]</td>\n",
       "      <td>[Drama, Family]</td>\n",
       "      <td>رگ خواب</td>\n",
       "      <td>[Rising, and, falling, between, a, man, and, w...</td>\n",
       "      <td>[]</td>\n",
       "      <td>[LeilaHatami, KouroshTahami, ElhamKorda]</td>\n",
       "      <td>[HamidNematollah]</td>\n",
       "    </tr>\n",
       "    <tr>\n",
       "      <th>46624</th>\n",
       "      <td>111109</td>\n",
       "      <td>[artist, play, pinoy]</td>\n",
       "      <td>[Drama]</td>\n",
       "      <td>Siglo ng Pagluluwal</td>\n",
       "      <td>[An, artist, struggles, to, finish, his, work,...</td>\n",
       "      <td>[{'name': 'Sine Olivia', 'id': 19653}]</td>\n",
       "      <td>[AngelAquino, PerryDizon, HazelOrencio, JoelTo...</td>\n",
       "      <td>[LavDiaz]</td>\n",
       "    </tr>\n",
       "    <tr>\n",
       "      <th>46625</th>\n",
       "      <td>67758</td>\n",
       "      <td>[]</td>\n",
       "      <td>[Action, Drama, Thriller]</td>\n",
       "      <td>Betrayal</td>\n",
       "      <td>[When, one, of, her, hits, goes, wrong,, a, pr...</td>\n",
       "      <td>[{'name': 'American World Pictures', 'id': 6165}]</td>\n",
       "      <td>[ErikaEleniak, AdamBaldwin, JulieduPage, James...</td>\n",
       "      <td>[MarkL.Lester]</td>\n",
       "    </tr>\n",
       "    <tr>\n",
       "      <th>46626</th>\n",
       "      <td>227506</td>\n",
       "      <td>[]</td>\n",
       "      <td>[]</td>\n",
       "      <td>Satana likuyushchiy</td>\n",
       "      <td>[In, a, small, town, live, two, brothers,, one...</td>\n",
       "      <td>[{'name': 'Yermoliev', 'id': 88753}]</td>\n",
       "      <td>[IwanMosschuchin, NathalieLissenko, PavelPavlo...</td>\n",
       "      <td>[YakovProtazanov]</td>\n",
       "    </tr>\n",
       "    <tr>\n",
       "      <th>46627</th>\n",
       "      <td>461257</td>\n",
       "      <td>[]</td>\n",
       "      <td>[]</td>\n",
       "      <td>Queerama</td>\n",
       "      <td>[50, years, after, decriminalisation, of, homo...</td>\n",
       "      <td>[]</td>\n",
       "      <td>[]</td>\n",
       "      <td>[DaisyAsquith]</td>\n",
       "    </tr>\n",
       "  </tbody>\n",
       "</table>\n",
       "<p>46628 rows × 8 columns</p>\n",
       "</div>"
      ],
      "text/plain": [
       "           id                                           keywords   \n",
       "0         862  [jealousy, toy, boy, friendship, friends, riva...  \\\n",
       "1        8844  [boardgame, disappearance, basedonchildren'sbo...   \n",
       "2       15602  [fishing, bestfriend, duringcreditsstinger, ol...   \n",
       "3       31357  [basedonnovel, interracialrelationship, single...   \n",
       "4       11862  [baby, midlifecrisis, confidence, aging, daugh...   \n",
       "...       ...                                                ...   \n",
       "46623  439050                                       [tragiclove]   \n",
       "46624  111109                              [artist, play, pinoy]   \n",
       "46625   67758                                                 []   \n",
       "46626  227506                                                 []   \n",
       "46627  461257                                                 []   \n",
       "\n",
       "                             genres               original_title   \n",
       "0       [Animation, Comedy, Family]                    Toy Story  \\\n",
       "1      [Adventure, Fantasy, Family]                      Jumanji   \n",
       "2                 [Romance, Comedy]             Grumpier Old Men   \n",
       "3          [Comedy, Drama, Romance]            Waiting to Exhale   \n",
       "4                          [Comedy]  Father of the Bride Part II   \n",
       "...                             ...                          ...   \n",
       "46623               [Drama, Family]                      رگ خواب   \n",
       "46624                       [Drama]          Siglo ng Pagluluwal   \n",
       "46625     [Action, Drama, Thriller]                     Betrayal   \n",
       "46626                            []          Satana likuyushchiy   \n",
       "46627                            []                     Queerama   \n",
       "\n",
       "                                                overview   \n",
       "0      [Led, by, Woody,, Andy's, toys, live, happily,...  \\\n",
       "1      [When, siblings, Judy, and, Peter, discover, a...   \n",
       "2      [A, family, wedding, reignites, the, ancient, ...   \n",
       "3      [Cheated, on,, mistreated, and, stepped, on,, ...   \n",
       "4      [Just, when, George, Banks, has, recovered, fr...   \n",
       "...                                                  ...   \n",
       "46623  [Rising, and, falling, between, a, man, and, w...   \n",
       "46624  [An, artist, struggles, to, finish, his, work,...   \n",
       "46625  [When, one, of, her, hits, goes, wrong,, a, pr...   \n",
       "46626  [In, a, small, town, live, two, brothers,, one...   \n",
       "46627  [50, years, after, decriminalisation, of, homo...   \n",
       "\n",
       "                                    production_companies   \n",
       "0         [{'name': 'Pixar Animation Studios', 'id': 3}]  \\\n",
       "1      [{'name': 'TriStar Pictures', 'id': 559}, {'na...   \n",
       "2      [{'name': 'Warner Bros.', 'id': 6194}, {'name'...   \n",
       "3      [{'name': 'Twentieth Century Fox Film Corporat...   \n",
       "4      [{'name': 'Sandollar Productions', 'id': 5842}...   \n",
       "...                                                  ...   \n",
       "46623                                                 []   \n",
       "46624             [{'name': 'Sine Olivia', 'id': 19653}]   \n",
       "46625  [{'name': 'American World Pictures', 'id': 6165}]   \n",
       "46626               [{'name': 'Yermoliev', 'id': 88753}]   \n",
       "46627                                                 []   \n",
       "\n",
       "                                                    cast               crew  \n",
       "0      [TomHanks, TimAllen, DonRickles, JimVarney, Wa...     [JohnLasseter]  \n",
       "1      [RobinWilliams, JonathanHyde, KirstenDunst, Br...      [JoeJohnston]  \n",
       "2      [WalterMatthau, JackLemmon, Ann-Margret, Sophi...     [HowardDeutch]  \n",
       "3      [WhitneyHouston, AngelaBassett, LorettaDevine,...   [ForestWhitaker]  \n",
       "4      [SteveMartin, DianeKeaton, MartinShort, Kimber...     [CharlesShyer]  \n",
       "...                                                  ...                ...  \n",
       "46623           [LeilaHatami, KouroshTahami, ElhamKorda]  [HamidNematollah]  \n",
       "46624  [AngelAquino, PerryDizon, HazelOrencio, JoelTo...          [LavDiaz]  \n",
       "46625  [ErikaEleniak, AdamBaldwin, JulieduPage, James...     [MarkL.Lester]  \n",
       "46626  [IwanMosschuchin, NathalieLissenko, PavelPavlo...  [YakovProtazanov]  \n",
       "46627                                                 []     [DaisyAsquith]  \n",
       "\n",
       "[46628 rows x 8 columns]"
      ]
     },
     "execution_count": 16,
     "metadata": {},
     "output_type": "execute_result"
    }
   ],
   "source": [
    "merged_data"
   ]
  },
  {
   "cell_type": "code",
   "execution_count": 17,
   "id": "2db108c8",
   "metadata": {},
   "outputs": [],
   "source": [
    "merged_data['collection'] = merged_data['keywords'] + merged_data['genres'] + merged_data['overview'] + merged_data['cast'] + merged_data['crew']"
   ]
  },
  {
   "cell_type": "code",
   "execution_count": 18,
   "id": "207b444c",
   "metadata": {},
   "outputs": [
    {
     "data": {
      "text/html": [
       "<div>\n",
       "<style scoped>\n",
       "    .dataframe tbody tr th:only-of-type {\n",
       "        vertical-align: middle;\n",
       "    }\n",
       "\n",
       "    .dataframe tbody tr th {\n",
       "        vertical-align: top;\n",
       "    }\n",
       "\n",
       "    .dataframe thead th {\n",
       "        text-align: right;\n",
       "    }\n",
       "</style>\n",
       "<table border=\"1\" class=\"dataframe\">\n",
       "  <thead>\n",
       "    <tr style=\"text-align: right;\">\n",
       "      <th></th>\n",
       "      <th>id</th>\n",
       "      <th>original_title</th>\n",
       "      <th>collection</th>\n",
       "    </tr>\n",
       "  </thead>\n",
       "  <tbody>\n",
       "    <tr>\n",
       "      <th>0</th>\n",
       "      <td>862</td>\n",
       "      <td>Toy Story</td>\n",
       "      <td>[jealousy, toy, boy, friendship, friends, riva...</td>\n",
       "    </tr>\n",
       "    <tr>\n",
       "      <th>1</th>\n",
       "      <td>8844</td>\n",
       "      <td>Jumanji</td>\n",
       "      <td>[boardgame, disappearance, basedonchildren'sbo...</td>\n",
       "    </tr>\n",
       "    <tr>\n",
       "      <th>2</th>\n",
       "      <td>15602</td>\n",
       "      <td>Grumpier Old Men</td>\n",
       "      <td>[fishing, bestfriend, duringcreditsstinger, ol...</td>\n",
       "    </tr>\n",
       "    <tr>\n",
       "      <th>3</th>\n",
       "      <td>31357</td>\n",
       "      <td>Waiting to Exhale</td>\n",
       "      <td>[basedonnovel, interracialrelationship, single...</td>\n",
       "    </tr>\n",
       "    <tr>\n",
       "      <th>4</th>\n",
       "      <td>11862</td>\n",
       "      <td>Father of the Bride Part II</td>\n",
       "      <td>[baby, midlifecrisis, confidence, aging, daugh...</td>\n",
       "    </tr>\n",
       "    <tr>\n",
       "      <th>...</th>\n",
       "      <td>...</td>\n",
       "      <td>...</td>\n",
       "      <td>...</td>\n",
       "    </tr>\n",
       "    <tr>\n",
       "      <th>24995</th>\n",
       "      <td>43193</td>\n",
       "      <td>Dangerous When Wet</td>\n",
       "      <td>[musical, englishchannel, swimmer, swimming, c...</td>\n",
       "    </tr>\n",
       "    <tr>\n",
       "      <th>24996</th>\n",
       "      <td>70512</td>\n",
       "      <td>L'inferno</td>\n",
       "      <td>[hell, basedonsong,poemorrhyme, Adventure, Dra...</td>\n",
       "    </tr>\n",
       "    <tr>\n",
       "      <th>24997</th>\n",
       "      <td>73103</td>\n",
       "      <td>Dante's Inferno</td>\n",
       "      <td>[Animation, Comedy, A, darkly, comedic, travel...</td>\n",
       "    </tr>\n",
       "    <tr>\n",
       "      <th>24998</th>\n",
       "      <td>38471</td>\n",
       "      <td>Dark Alibi</td>\n",
       "      <td>[prison, bankrobbery, fingerprints, ex-con, Cr...</td>\n",
       "    </tr>\n",
       "    <tr>\n",
       "      <th>24999</th>\n",
       "      <td>73997</td>\n",
       "      <td>David Spade: Take the Hit</td>\n",
       "      <td>[Comedy, David, Spade, focuses, on, pop-cultur...</td>\n",
       "    </tr>\n",
       "  </tbody>\n",
       "</table>\n",
       "<p>25000 rows × 3 columns</p>\n",
       "</div>"
      ],
      "text/plain": [
       "          id               original_title   \n",
       "0        862                    Toy Story  \\\n",
       "1       8844                      Jumanji   \n",
       "2      15602             Grumpier Old Men   \n",
       "3      31357            Waiting to Exhale   \n",
       "4      11862  Father of the Bride Part II   \n",
       "...      ...                          ...   \n",
       "24995  43193           Dangerous When Wet   \n",
       "24996  70512                    L'inferno   \n",
       "24997  73103              Dante's Inferno   \n",
       "24998  38471                   Dark Alibi   \n",
       "24999  73997    David Spade: Take the Hit   \n",
       "\n",
       "                                              collection  \n",
       "0      [jealousy, toy, boy, friendship, friends, riva...  \n",
       "1      [boardgame, disappearance, basedonchildren'sbo...  \n",
       "2      [fishing, bestfriend, duringcreditsstinger, ol...  \n",
       "3      [basedonnovel, interracialrelationship, single...  \n",
       "4      [baby, midlifecrisis, confidence, aging, daugh...  \n",
       "...                                                  ...  \n",
       "24995  [musical, englishchannel, swimmer, swimming, c...  \n",
       "24996  [hell, basedonsong,poemorrhyme, Adventure, Dra...  \n",
       "24997  [Animation, Comedy, A, darkly, comedic, travel...  \n",
       "24998  [prison, bankrobbery, fingerprints, ex-con, Cr...  \n",
       "24999  [Comedy, David, Spade, focuses, on, pop-cultur...  \n",
       "\n",
       "[25000 rows x 3 columns]"
      ]
     },
     "execution_count": 18,
     "metadata": {},
     "output_type": "execute_result"
    }
   ],
   "source": [
    "new_data = merged_data[['id','original_title', 'collection']].head(25000).copy()\n",
    "new_data"
   ]
  },
  {
   "cell_type": "code",
   "execution_count": 19,
   "id": "ed529c3b",
   "metadata": {},
   "outputs": [],
   "source": [
    "new_data['collection'] = new_data['collection'].apply(lambda x: \" \".join(x))"
   ]
  },
  {
   "cell_type": "code",
   "execution_count": 20,
   "id": "3f1f0722",
   "metadata": {},
   "outputs": [],
   "source": [
    "new_data['collection'] = new_data['collection'].apply(lambda x: x.lower())"
   ]
  },
  {
   "cell_type": "code",
   "execution_count": 21,
   "id": "39df8199",
   "metadata": {},
   "outputs": [
    {
     "data": {
      "text/html": [
       "<div>\n",
       "<style scoped>\n",
       "    .dataframe tbody tr th:only-of-type {\n",
       "        vertical-align: middle;\n",
       "    }\n",
       "\n",
       "    .dataframe tbody tr th {\n",
       "        vertical-align: top;\n",
       "    }\n",
       "\n",
       "    .dataframe thead th {\n",
       "        text-align: right;\n",
       "    }\n",
       "</style>\n",
       "<table border=\"1\" class=\"dataframe\">\n",
       "  <thead>\n",
       "    <tr style=\"text-align: right;\">\n",
       "      <th></th>\n",
       "      <th>id</th>\n",
       "      <th>original_title</th>\n",
       "      <th>collection</th>\n",
       "    </tr>\n",
       "  </thead>\n",
       "  <tbody>\n",
       "    <tr>\n",
       "      <th>0</th>\n",
       "      <td>862</td>\n",
       "      <td>Toy Story</td>\n",
       "      <td>jealousy toy boy friendship friends rivalry bo...</td>\n",
       "    </tr>\n",
       "    <tr>\n",
       "      <th>1</th>\n",
       "      <td>8844</td>\n",
       "      <td>Jumanji</td>\n",
       "      <td>boardgame disappearance basedonchildren'sbook ...</td>\n",
       "    </tr>\n",
       "    <tr>\n",
       "      <th>2</th>\n",
       "      <td>15602</td>\n",
       "      <td>Grumpier Old Men</td>\n",
       "      <td>fishing bestfriend duringcreditsstinger oldmen...</td>\n",
       "    </tr>\n",
       "    <tr>\n",
       "      <th>3</th>\n",
       "      <td>31357</td>\n",
       "      <td>Waiting to Exhale</td>\n",
       "      <td>basedonnovel interracialrelationship singlemot...</td>\n",
       "    </tr>\n",
       "    <tr>\n",
       "      <th>4</th>\n",
       "      <td>11862</td>\n",
       "      <td>Father of the Bride Part II</td>\n",
       "      <td>baby midlifecrisis confidence aging daughter m...</td>\n",
       "    </tr>\n",
       "  </tbody>\n",
       "</table>\n",
       "</div>"
      ],
      "text/plain": [
       "      id               original_title   \n",
       "0    862                    Toy Story  \\\n",
       "1   8844                      Jumanji   \n",
       "2  15602             Grumpier Old Men   \n",
       "3  31357            Waiting to Exhale   \n",
       "4  11862  Father of the Bride Part II   \n",
       "\n",
       "                                          collection  \n",
       "0  jealousy toy boy friendship friends rivalry bo...  \n",
       "1  boardgame disappearance basedonchildren'sbook ...  \n",
       "2  fishing bestfriend duringcreditsstinger oldmen...  \n",
       "3  basedonnovel interracialrelationship singlemot...  \n",
       "4  baby midlifecrisis confidence aging daughter m...  "
      ]
     },
     "execution_count": 21,
     "metadata": {},
     "output_type": "execute_result"
    }
   ],
   "source": [
    "new_data.head()"
   ]
  },
  {
   "cell_type": "code",
   "execution_count": 22,
   "id": "0e7d1a07",
   "metadata": {},
   "outputs": [],
   "source": [
    "import nltk"
   ]
  },
  {
   "cell_type": "code",
   "execution_count": 23,
   "id": "ef1e7b68",
   "metadata": {},
   "outputs": [],
   "source": [
    "from nltk.stem.porter import PorterStemmer\n",
    "ps = PorterStemmer()"
   ]
  },
  {
   "cell_type": "code",
   "execution_count": 24,
   "id": "2e7de6e9",
   "metadata": {},
   "outputs": [],
   "source": [
    "def stem(text):\n",
    "    y = []\n",
    "    \n",
    "    for i in text.split():\n",
    "        y.append(ps.stem(i))\n",
    "        \n",
    "    return \" \".join(y)"
   ]
  },
  {
   "cell_type": "code",
   "execution_count": 25,
   "id": "2955302d",
   "metadata": {
    "scrolled": true
   },
   "outputs": [],
   "source": [
    "new_data['collection'] = new_data['collection'].apply(stem)"
   ]
  },
  {
   "cell_type": "code",
   "execution_count": 26,
   "id": "b4a654e7",
   "metadata": {},
   "outputs": [],
   "source": [
    "from sklearn.feature_extraction.text import CountVectorizer\n",
    "cv = CountVectorizer(max_features=5000,stop_words='english')"
   ]
  },
  {
   "cell_type": "code",
   "execution_count": 27,
   "id": "080259b0",
   "metadata": {},
   "outputs": [
    {
     "data": {
      "text/plain": [
       "(25000, 5000)"
      ]
     },
     "execution_count": 27,
     "metadata": {},
     "output_type": "execute_result"
    }
   ],
   "source": [
    "vector = cv.fit_transform(new_data['collection']).toarray()\n",
    "vector.shape"
   ]
  },
  {
   "cell_type": "code",
   "execution_count": 28,
   "id": "33aa534d",
   "metadata": {},
   "outputs": [],
   "source": [
    "from sklearn.metrics.pairwise import cosine_similarity"
   ]
  },
  {
   "cell_type": "code",
   "execution_count": 29,
   "id": "f8ced6ea",
   "metadata": {},
   "outputs": [],
   "source": [
    "similarity = cosine_similarity(vector)"
   ]
  },
  {
   "cell_type": "code",
   "execution_count": 30,
   "id": "854b1c76",
   "metadata": {},
   "outputs": [],
   "source": [
    "def recommend(movie):\n",
    "    index = new_data[new_data['original_title'] == movie].index[0]\n",
    "    distances = similarity[index]\n",
    "    most_similar_movies = sorted(list(enumerate(distances)),reverse=True,key = lambda x: x[1])[1:6]\n",
    "    \n",
    "    for i in most_similar_movies:\n",
    "        print(new_data.iloc[i[0]].original_title)"
   ]
  },
  {
   "cell_type": "code",
   "execution_count": 32,
   "id": "33d36ba4",
   "metadata": {},
   "outputs": [
    {
     "name": "stdout",
     "output_type": "stream",
     "text": [
      "Toy Story\n",
      "Toy Story 3\n",
      "The Million Dollar Duck\n",
      "Dollman vs. Demonic Toys\n",
      "La freccia azzurra\n"
     ]
    }
   ],
   "source": [
    "recommend('Toy Story 2')"
   ]
  },
  {
   "cell_type": "code",
   "execution_count": 36,
   "id": "c2203a89",
   "metadata": {},
   "outputs": [],
   "source": [
    "import pickle\n",
    "pickle.dump(new_data, open('final-movie.pkl', 'wb'))\n",
    "pickle.dump(similarity,open('final-similarity.pkl', 'wb'),protocol = 4)"
   ]
  },
  {
   "cell_type": "code",
   "execution_count": null,
   "id": "814be044",
   "metadata": {},
   "outputs": [],
   "source": []
  }
 ],
 "metadata": {
  "kernelspec": {
   "display_name": "Python 3 (ipykernel)",
   "language": "python",
   "name": "python3"
  },
  "language_info": {
   "codemirror_mode": {
    "name": "ipython",
    "version": 3
   },
   "file_extension": ".py",
   "mimetype": "text/x-python",
   "name": "python",
   "nbconvert_exporter": "python",
   "pygments_lexer": "ipython3",
   "version": "3.11.3"
  }
 },
 "nbformat": 4,
 "nbformat_minor": 5
}
